{
 "metadata": {
  "name": ""
 },
 "nbformat": 3,
 "nbformat_minor": 0,
 "worksheets": [
  {
   "cells": [
    {
     "cell_type": "markdown",
     "metadata": {},
     "source": [
      "# Spherical Coordinates"
     ]
    },
    {
     "cell_type": "markdown",
     "metadata": {},
     "source": [
      "### Conversion between cartesian and spherical coordinates"
     ]
    },
    {
     "cell_type": "code",
     "collapsed": false,
     "input": [
      "from IPython.display import display, Math, Latex\n",
      "display(Math(r'x = R sin(\\theta) cos(\\phi)'))\n",
      "display(Math(r'y = R sin(\\theta) sin(\\phi)'))\n",
      "display(Math(r'z = R cos(\\theta)'))"
     ],
     "language": "python",
     "metadata": {},
     "outputs": []
    },
    {
     "cell_type": "markdown",
     "metadata": {},
     "source": [
      "### Convert cartesian point (1,1,1) to spherical coordinates."
     ]
    },
    {
     "cell_type": "code",
     "collapsed": false,
     "input": [
      "x = 1.\n",
      "y = 1.\n",
      "z = 1.\n",
      "# z = sqrt(2.)"
     ],
     "language": "python",
     "metadata": {},
     "outputs": []
    },
    {
     "cell_type": "code",
     "collapsed": false,
     "input": [
      "R = (x**2 + y**2 + z**2)**0.5\n",
      "print 'R = ', R"
     ],
     "language": "python",
     "metadata": {},
     "outputs": []
    },
    {
     "cell_type": "code",
     "collapsed": false,
     "input": [
      "theta = arccos(z/R)\n",
      "print 'theta = ', theta, 'radians'\n",
      "print 'theta = ', theta*180./pi, 'degrees'"
     ],
     "language": "python",
     "metadata": {},
     "outputs": []
    },
    {
     "cell_type": "code",
     "collapsed": false,
     "input": [
      "# Use y to find phi.\n",
      "phi = arcsin(y/(R * sin(theta)))\n",
      "print 'phi = ', phi, 'radians'\n",
      "print 'phi = ', phi*180./pi, 'degrees'"
     ],
     "language": "python",
     "metadata": {},
     "outputs": []
    },
    {
     "cell_type": "code",
     "collapsed": false,
     "input": [
      "# Use x to find phi.\n",
      "phi = arccos(x/(R * sin(theta)))\n",
      "print 'phi = ', phi, 'radians'\n",
      "print 'phi = ', phi*180./pi, 'degrees'"
     ],
     "language": "python",
     "metadata": {},
     "outputs": []
    },
    {
     "cell_type": "code",
     "collapsed": false,
     "input": [
      "# Use both x and y to find phi.\n",
      "phi = arctan(y/x)\n",
      "print 'phi = ', phi, 'radians'\n",
      "print 'phi = ', phi*180./pi, 'degrees'"
     ],
     "language": "python",
     "metadata": {},
     "outputs": []
    }
   ],
   "metadata": {}
  }
 ]
}