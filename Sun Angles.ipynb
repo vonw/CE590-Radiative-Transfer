{
 "metadata": {
  "name": ""
 },
 "nbformat": 3,
 "nbformat_minor": 0,
 "worksheets": [
  {
   "cells": [
    {
     "cell_type": "markdown",
     "metadata": {},
     "source": [
      "#Sun Angles"
     ]
    },
    {
     "cell_type": "markdown",
     "metadata": {},
     "source": [
      "##Calculates the diurnal cycle for a given longitude, latitude and day of year."
     ]
    },
    {
     "cell_type": "code",
     "collapsed": false,
     "input": [
      "import ephem\n",
      "from datetime import datetime, timedelta"
     ],
     "language": "python",
     "metadata": {},
     "outputs": [],
     "prompt_number": 2
    },
    {
     "cell_type": "code",
     "collapsed": false,
     "input": [
      "site = ephem.Observer()\n",
      "\n",
      "# INPUT THE LONGITUDE AND LATITUDE MANUALLY\n",
      "site.lon, site.lat = '-117.', '+46.'      # Moscow-Pullman\n",
      "#site.lon, site.lat = '0.', '72.5'      # Summit Station, Greenland"
     ],
     "language": "python",
     "metadata": {},
     "outputs": [],
     "prompt_number": 3
    },
    {
     "cell_type": "code",
     "collapsed": false,
     "input": [
      "# USE THE CURRENT DAY\n",
      "#utc = datetime.utcnow()\n",
      "#site.date = str(utc.year) + '/' + str(utc.month) + '/' + str(utc.day)\n",
      "\n",
      "# INPUT THE DAY MANUALLY\n",
      "site.date = '2014/03/21'\n",
      "\n",
      "utcday = datetime(utc.year, utc.month, utc.day)"
     ],
     "language": "python",
     "metadata": {},
     "outputs": [],
     "prompt_number": 8
    },
    {
     "cell_type": "code",
     "collapsed": false,
     "input": [
      "sun = ephem.Sun()\n",
      "sun.compute(site)\n",
      "time = array([])\n",
      "alt  = array([])\n",
      "azi  = array([])\n",
      "for hour in range(48):                                    # At 30-minute resolution        \n",
      "    time = append(time,utcday + timedelta(hour/48.))\n",
      "    alt  = append(alt,sun.alt)\n",
      "    azi  = append(azi,sun.az)\n",
      "    \n",
      "    site.date += ephem.minute * 30.\n",
      "    sun.compute(site)\n"
     ],
     "language": "python",
     "metadata": {},
     "outputs": [],
     "prompt_number": 9
    },
    {
     "cell_type": "code",
     "collapsed": false,
     "input": [
      "# All points in black.\n",
      "plot_date(time,alt*180./pi,'ko')\n",
      "\n",
      "# Daytime points in yellow.\n",
      "day = alt>0.\n",
      "plot_date(time[day],alt[day]*180./pi,'yo')\n",
      "title(str(utcday))\n",
      "\n",
      "# Improve formatting.\n",
      "axhline(0,color='k',linestyle='--')\n",
      "gcf().autofmt_xdate()"
     ],
     "language": "python",
     "metadata": {},
     "outputs": [
      {
       "metadata": {},
       "output_type": "display_data",
       "png": "[encoded data removed]",
       "text": [
        "<matplotlib.figure.Figure at 0x10cbc73d0>"
       ]
      }
     ],
     "prompt_number": 10
    },
    {
     "cell_type": "code",
     "collapsed": false,
     "input": [
      "ind = find(day>0.)\n",
      "daylength = float(len(ind))/float(len(time)) * 24.\n",
      "print 'Approximate length of day is:', daylength, 'hours'"
     ],
     "language": "python",
     "metadata": {},
     "outputs": [
      {
       "output_type": "stream",
       "stream": "stdout",
       "text": [
        "Approximate length of day is: 12.0 hours\n"
       ]
      }
     ],
     "prompt_number": 11
    }
   ],
   "metadata": {}
  }
 ]
}