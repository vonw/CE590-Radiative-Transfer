{
 "metadata": {
  "name": ""
 },
 "nbformat": 3,
 "nbformat_minor": 0,
 "worksheets": [
  {
   "cells": [
    {
     "cell_type": "markdown",
     "metadata": {},
     "source": [
      "#LBLRTM runs for Mid-Latitude Summer standard atmosphere"
     ]
    },
    {
     "cell_type": "markdown",
     "metadata": {},
     "source": [
      "##Calculates both the downwelling radiance at the surface (SFC) and the upwelling radiance at the top of the atmosphere (TOA)."
     ]
    },
    {
     "cell_type": "markdown",
     "metadata": {},
     "source": [
      "###1) Downwelling radiance at the surface"
     ]
    },
    {
     "cell_type": "markdown",
     "metadata": {},
     "source": [
      "####Run LBLRTM"
     ]
    },
    {
     "cell_type": "code",
     "collapsed": false,
     "input": [
      "# Removes links to essential input files just to be sure that they get set up correctly.\n",
      "!rm lblrtm\n",
      "!rm TAPE3\n",
      "!rm TAPE5\n",
      "\n",
      "# Link to the executable file, LBLRTM\n",
      "!ln -s /home/vonw/radtran/lblrtm/lblrtm_v12.2_linux_gnu_sgl lblrtm\n",
      "\n",
      "# Link to essential input files, TAPE3 (line file) and TAPE5 (model atmosphere)\n",
      "!ln -s /home/vonw/radtran/lblrtm/run_examples/run_example_user_defined_upwelling/TAPE3 TAPE3\n",
      "!ln -s /home/vonw/work/courses/CE590/TAPE5_MLS_SFC TAPE5\n",
      "\n",
      "# RUN LBLRTM\n",
      "!./lblrtm\n",
      "\n",
      "# Delete redundant files.\n",
      "!rm TAPE6\n",
      "!rm TAPE9\n",
      "!rm TAPE10\n",
      "!rm TAPE11\n",
      "!rm TAPE12"
     ],
     "language": "python",
     "metadata": {},
     "outputs": []
    },
    {
     "cell_type": "markdown",
     "metadata": {},
     "source": [
      "####Plot the radiance data."
     ]
    },
    {
     "cell_type": "code",
     "collapsed": false,
     "input": [
      "# Load the raw data.\n",
      "data = flipud(loadtxt('TAPE27',skiprows=27))       # in W cm-2 sr-1 (cm-1)-1\n",
      "\n",
      "# Convert wavenumbers to wavelengths and radiance to W m-2 sr-1 um-1\n",
      "wl = (10000./data[:,0])/1.e6                       # in meters (NOT um)\n",
      "radiance = (data[:,1]/wl**2) / 100. / 1e6 * 1e4    # in W m-2 sr-1 um-1\n",
      "\n",
      "# Plot the data.\n",
      "plot(wl*1e6,radiance)\n",
      "xlabel('Wavelength (um)')\n",
      "ylabel('Radiance (W m-2 sr-1 um-1)')\n",
      "title('Downwelling radiance at the surface')"
     ],
     "language": "python",
     "metadata": {},
     "outputs": []
    },
    {
     "cell_type": "code",
     "collapsed": false,
     "input": [
      "# Calculate the approximate flux, assuming isotropic radiance (NOT a good assumption).\n",
      "aflux = pi * trapz(radiance,wl*1e6)\n",
      "print 'The approximate downwelling flux from the mid-latitude summer standard atmosphere is: ', aflux, 'W m-2'"
     ],
     "language": "python",
     "metadata": {},
     "outputs": []
    }
   ],
   "metadata": {}
  }
 ]
}