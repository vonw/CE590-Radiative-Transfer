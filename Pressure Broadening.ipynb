{
 "metadata": {
  "name": "",
  "signature": "sha256:115310555b26d703d7240cf92622782cd755aaf67519d1be80404fdae9092ec0"
 },
 "nbformat": 3,
 "nbformat_minor": 0,
 "worksheets": [
  {
   "cells": [
    {
     "cell_type": "heading",
     "level": 1,
     "metadata": {},
     "source": [
      "Pressure Broadening"
     ]
    },
    {
     "cell_type": "heading",
     "level": 2,
     "metadata": {},
     "source": [
      "Calculation of the Lorentz line shape, which approximates pressure broadening of atmospheric absorption/emission spectral lines."
     ]
    },
    {
     "cell_type": "code",
     "collapsed": false,
     "input": [
      "p0 = 1013.25                     # mb\n",
      "T0 = 273.15                      # K\n",
      "a0 = 0.5\n",
      "n  = 0.6\n",
      "\n",
      "p  = 1000.\n",
      "T  = 273.\n",
      "aL = a0 * (p/p0) * (T0/T)**n"
     ],
     "language": "python",
     "metadata": {},
     "outputs": [],
     "prompt_number": 15
    },
    {
     "cell_type": "code",
     "collapsed": false,
     "input": [
      "varr = arange(-2,2,0.001)\n",
      "fL = (aL/pi)/(varr**2 + aL**2)\n",
      "\n",
      "plot(varr/aL,fL)\n",
      "xlabel('(v-v0)/aD')\n",
      "ylabel('f(v-v0)')\n",
      "title('Doppler Line Shape')"
     ],
     "language": "python",
     "metadata": {},
     "outputs": [
      {
       "metadata": {},
       "output_type": "pyout",
       "prompt_number": 16,
       "text": [
        "<matplotlib.text.Text at 0x10c8b6890>"
       ]
      },
      {
       "metadata": {},
       "output_type": "display_data",
       "png": "[encoded data removed]",
       "text": [
        "<matplotlib.figure.Figure at 0x10c2d54d0>"
       ]
      }
     ],
     "prompt_number": 16
    },
    {
     "cell_type": "code",
     "collapsed": false,
     "input": [],
     "language": "python",
     "metadata": {},
     "outputs": [],
     "prompt_number": 5
    },
    {
     "cell_type": "code",
     "collapsed": false,
     "input": [],
     "language": "python",
     "metadata": {},
     "outputs": []
    }
   ],
   "metadata": {}
  }
 ]
}