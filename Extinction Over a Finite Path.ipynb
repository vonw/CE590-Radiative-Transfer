{
 "metadata": {
  "name": ""
 },
 "nbformat": 3,
 "nbformat_minor": 0,
 "worksheets": [
  {
   "cells": [
    {
     "cell_type": "markdown",
     "metadata": {},
     "source": [
      "#Extinction Over a Finite Path - Section 7.2 (Petty, 2006)"
     ]
    },
    {
     "cell_type": "markdown",
     "metadata": {},
     "source": [
      "##Calculating transmission from optical depths"
     ]
    },
    {
     "cell_type": "code",
     "collapsed": false,
     "input": [
      "# Create an array of optical depths\n",
      "tau = arange(0.,10.,0.1)\n",
      "T   = exp(-tau)\n",
      "\n",
      "figure()\n",
      "plot(tau,T)\n",
      "xlabel('Optical Depth')\n",
      "ylabel('Transmission')"
     ],
     "language": "python",
     "metadata": {},
     "outputs": []
    },
    {
     "cell_type": "code",
     "collapsed": false,
     "input": [
      "figure()\n",
      "semilogx(tau,T)\n",
      "xlabel('Optical Depth')\n",
      "ylabel('Transmission')\n",
      "title('Semilog-linear plot')"
     ],
     "language": "python",
     "metadata": {},
     "outputs": [
      {
       "metadata": {},
       "output_type": "pyout",
       "prompt_number": 8,
       "text": [
        "<matplotlib.text.Text at 0x10d8cde10>"
       ]
      }
     ],
     "prompt_number": 8
    },
    {
     "cell_type": "code",
     "collapsed": false,
     "input": [
      "figure()\n",
      "loglog(tau,T)\n",
      "xlabel('Optical Depth')\n",
      "ylabel('Transmission')\n",
      "title('Log-log plot')"
     ],
     "language": "python",
     "metadata": {},
     "outputs": [
      {
       "metadata": {},
       "output_type": "pyout",
       "prompt_number": 9,
       "text": [
        "<matplotlib.text.Text at 0x10ddd7b50>"
       ]
      }
     ],
     "prompt_number": 9
    }
   ],
   "metadata": {}
  }
 ]
}