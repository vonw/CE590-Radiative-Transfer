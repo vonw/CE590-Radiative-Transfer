{
 "metadata": {
  "name": ""
 },
 "nbformat": 3,
 "nbformat_minor": 0,
 "worksheets": [
  {
   "cells": [
    {
     "cell_type": "markdown",
     "metadata": {},
     "source": [
      "#Solar Reflectivity"
     ]
    },
    {
     "cell_type": "markdown",
     "metadata": {},
     "source": [
      "##How to calculate the reflected and absorbed solar flux at the surface"
     ]
    },
    {
     "cell_type": "markdown",
     "metadata": {},
     "source": [
      "###1) Read in the data of the solar spectral irradiance at the surface"
     ]
    },
    {
     "cell_type": "code",
     "collapsed": false,
     "input": [
      "# Reference Solar Spectral Irradiance: Air mass = 1.5\n",
      "#   (http://rredc.nrel.gov/solar/spectra/am1.5/)\n",
      "filename     = '/Users/vonw/work/courses/WSU/2013-2014/spring/CE590/python/notebooks/ASTMG173.txt'\n",
      "data         = loadtxt(filename,skiprows=2,delimiter='\\t')\n",
      "wl           = data[:,0]\n",
      "sfc_flux_toa = data[:,1]\n",
      "sfc_flux     = data[:,3]"
     ],
     "language": "python",
     "metadata": {},
     "outputs": [],
     "prompt_number": 14
    },
    {
     "cell_type": "markdown",
     "metadata": {},
     "source": [
      "###2) Approximate the Reflectivity of Light Soil [from Fig. 5.2 in Petty (2006)]"
     ]
    },
    {
     "cell_type": "code",
     "collapsed": false,
     "input": [
      "# Create variables for plotting and analysis.\n",
      "wlr           = wl[(wl>400.) & (wl<2000.)]\n",
      "sfc_fluxr     = sfc_flux[(wl>400.) & (wl<2000.)]\n",
      "sfc_fluxr_toa = sfc_flux_toa[(wl>400.) & (wl<2000.)]\n",
      "\n",
      "# Creates a new array of zeros that will contain the reflectivity values.\n",
      "R             = zeros(wlr.shape)"
     ],
     "language": "python",
     "metadata": {},
     "outputs": [],
     "prompt_number": 15
    },
    {
     "cell_type": "code",
     "collapsed": false,
     "input": [
      "# Using estimated values from Fig 5.2 in Petty (2006), create a reflectivity array.\n",
      "R[(wlr>400.)  & (wlr<=600.)]  = 0.3\n",
      "R[(wlr>600.)  & (wlr<=1100.)] = 0.4\n",
      "R[(wlr>1100.) & (wlr<=1300.)] = 0.5\n",
      "R[(wlr>1300.) & (wlr<=1600.)] = 0.6\n",
      "R[(wlr>1600.) & (wlr<=2000.)] = 0.55"
     ],
     "language": "python",
     "metadata": {},
     "outputs": [],
     "prompt_number": 16
    },
    {
     "cell_type": "markdown",
     "metadata": {},
     "source": [
      "###3) Plot the spectral irradiance at the surface along with the spectral irradiance that is reflected"
     ]
    },
    {
     "cell_type": "code",
     "collapsed": false,
     "input": [
      "figure()\n",
      "plot(wlr,sfc_fluxr_toa,wlr,sfc_fluxr,wlr,sfc_fluxr*R,wlr,sfc_fluxr*(1-R))\n",
      "xlabel('Wavelength (nm)')\n",
      "ylabel('Spectral Flux Density (W m-2 nm-1)')\n",
      "title('Incident and Reflected Solar Spectral Irradiance')\n",
      "legend(('TOA','Incident','Reflected','Absorbed'),loc='best')"
     ],
     "language": "python",
     "metadata": {},
     "outputs": [
      {
       "metadata": {},
       "output_type": "pyout",
       "prompt_number": 17,
       "text": [
        "<matplotlib.legend.Legend at 0x10f00e850>"
       ]
      }
     ],
     "prompt_number": 17
    },
    {
     "cell_type": "markdown",
     "metadata": {},
     "source": [
      "###4) Integrate in wavelength to determine the incident, reflected, and absorbed solar flux"
     ]
    },
    {
     "cell_type": "code",
     "collapsed": false,
     "input": [
      "Flux_t = trapz(sfc_fluxr_toa,wlr)\n",
      "Flux_i = trapz(sfc_fluxr,wlr)\n",
      "Flux_r = trapz(sfc_fluxr*R,wlr)\n",
      "Flux_a = Flux_i - Flux_r\n",
      "\n",
      "print 'The TOA       Solar Flux is: ', Flux_t, 'W m-2'\n",
      "print 'The incident  Solar Flux is: ', Flux_i, 'W m-2'\n",
      "print 'The reflected Solar Flux is: ', Flux_r, 'W m-2'\n",
      "print 'The absorbed  Solar Flux is: ', Flux_a, 'W m-2'"
     ],
     "language": "python",
     "metadata": {},
     "outputs": [
      {
       "output_type": "stream",
       "stream": "stdout",
       "text": [
        "The TOA       Solar Flux is:  1170.760155 W m-2\n",
        "The incident  Solar Flux is:  831.563344134 W m-2\n",
        "The reflected Solar Flux is:  329.189355561 W m-2\n",
        "The absorbed  Solar Flux is:  502.373988572 W m-2\n"
       ]
      }
     ],
     "prompt_number": 13
    }
   ],
   "metadata": {}
  }
 ]
}