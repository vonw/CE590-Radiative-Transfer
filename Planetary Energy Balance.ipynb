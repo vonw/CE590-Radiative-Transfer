{
 "metadata": {
  "name": ""
 },
 "nbformat": 3,
 "nbformat_minor": 0,
 "worksheets": [
  {
   "cells": [
    {
     "cell_type": "markdown",
     "metadata": {},
     "source": [
      "# Planetary Energy Balance Model"
     ]
    },
    {
     "cell_type": "markdown",
     "metadata": {},
     "source": [
      "#### Adapted from\"Global Physical Climatology\" by Hartmann (1994)."
     ]
    },
    {
     "cell_type": "markdown",
     "metadata": {},
     "source": [
      "## \"Zeroth-Order\" Model"
     ]
    },
    {
     "cell_type": "markdown",
     "metadata": {},
     "source": [
      "### Solar radiation absorbed  =  Infrared radiation emitted"
     ]
    },
    {
     "cell_type": "code",
     "collapsed": false,
     "input": [
      "So = 1370.         # W m-2\n",
      "ap = 0.30          # Planetary albedo (= 30%)\n",
      "sigma = 5.67e-8    # W m-2 K-4\n",
      "\n",
      "Te = ((So/4.)*(1.-ap)/sigma)**(1./4.)\n",
      "print 'The equilibrium temperature of Earth is:  ', Te, 'Kelvin'"
     ],
     "language": "python",
     "metadata": {},
     "outputs": [
      {
       "output_type": "stream",
       "stream": "stdout",
       "text": [
        "The equilibrium temperature of Earth is:   255.002177667 Kelvin\n"
       ]
      }
     ],
     "prompt_number": 1
    },
    {
     "cell_type": "markdown",
     "metadata": {},
     "source": [
      "## Include a 1-layer atmosphere; Greenhouse Effect"
     ]
    },
    {
     "cell_type": "code",
     "collapsed": false,
     "input": [
      "So = 1370.         # W m-2\n",
      "ap = 0.30          # Planetary albedo (= 30%)\n",
      "sigma = 5.67e-8    # W m-2 K-4\n",
      "\n",
      "Ta = Te = ((So/4.)*(1.-ap)/sigma)**(1./4.)\n",
      "print 'The equilibrium (and atmospheric) temperature of Earth is:  ', Te, 'Kelvin'"
     ],
     "language": "python",
     "metadata": {},
     "outputs": [
      {
       "output_type": "stream",
       "stream": "stdout",
       "text": [
        "The equilibrium (and atmospheric) temperature of Earth is:   255.002177667 Kelvin\n"
       ]
      }
     ],
     "prompt_number": 2
    },
    {
     "cell_type": "code",
     "collapsed": false,
     "input": [
      "Ts = 2**(1./4.) * Te\n",
      "print 'The surface temperature of Earth is:  ', Ts, 'Kelvin'"
     ],
     "language": "python",
     "metadata": {},
     "outputs": [
      {
       "output_type": "stream",
       "stream": "stdout",
       "text": [
        "The surface temperature of Earth is:   303.250404023 Kelvin\n"
       ]
      }
     ],
     "prompt_number": 3
    },
    {
     "cell_type": "code",
     "collapsed": false,
     "input": [
      "2**(1./4.)"
     ],
     "language": "python",
     "metadata": {},
     "outputs": [
      {
       "metadata": {},
       "output_type": "pyout",
       "prompt_number": 4,
       "text": [
        "1.189207115002721"
       ]
      }
     ],
     "prompt_number": 4
    },
    {
     "cell_type": "markdown",
     "metadata": {},
     "source": [
      "#### So in this simple model, the surface temperature is about 19% greater than the equilibrium and atmospheric temperature."
     ]
    },
    {
     "cell_type": "markdown",
     "metadata": {},
     "source": [
      "####Note that the equilibrium temperature MUST be the same as in the \"zero-order\" model; the energy input from the Sun must equal the energy output from the Earth.  However, the surface temperature is greater because of the extra energy input from the atmosphere."
     ]
    },
    {
     "cell_type": "markdown",
     "metadata": {},
     "source": [
      "### Compare the energy input to the surface from the Sun and that from the atmosphere."
     ]
    },
    {
     "cell_type": "code",
     "collapsed": false,
     "input": [
      "# Energy input from the Sun\n",
      "EnergyInputFromSun = (So/4.)*(1.-ap)\n",
      "print 'Energy Input from the Sun (to the surface)', EnergyInputFromSun\n",
      "\n",
      "# Energy input from the atmosphere.\n",
      "EnergyInputFromAtm = sigma * Ta**(4.)\n",
      "print 'Energy Input from the Atmosphere (to the surface)', EnergyInputFromAtm\n"
     ],
     "language": "python",
     "metadata": {},
     "outputs": []
    },
    {
     "cell_type": "markdown",
     "metadata": {},
     "source": [
      "####This is still not realistic, because the actual greenhouse effect is about 2 times that from solar input."
     ]
    }
   ],
   "metadata": {}
  }
 ]
}