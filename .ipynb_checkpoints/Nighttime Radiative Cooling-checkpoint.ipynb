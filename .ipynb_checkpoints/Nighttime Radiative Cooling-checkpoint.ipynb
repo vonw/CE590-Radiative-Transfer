{
 "metadata": {
  "name": ""
 },
 "nbformat": 3,
 "nbformat_minor": 0,
 "worksheets": [
  {
   "cells": [
    {
     "cell_type": "markdown",
     "metadata": {},
     "source": [
      "#Nighttime Radiative Cooling - Section 6.4.4 in Petty (2006)"
     ]
    },
    {
     "cell_type": "markdown",
     "metadata": {},
     "source": [
      "##Dew or frost is far more likely to form on a clear night.  Why?"
     ]
    },
    {
     "cell_type": "markdown",
     "metadata": {},
     "source": [
      "###1) Range of values of the downwelling longwave radiation."
     ]
    },
    {
     "cell_type": "code",
     "collapsed": false,
     "input": [
      "o = 5.67e-8     # Stefan-Boltzmann constant"
     ],
     "language": "python",
     "metadata": {},
     "outputs": [],
     "prompt_number": 1
    },
    {
     "cell_type": "code",
     "collapsed": false,
     "input": [
      "# Range of longwave absorptivity values under clear skies (Alw = 0.7 - Arctic, Alw = 0.95 - Tropics)\n",
      "Alw_arctic  = 0.7\n",
      "Alw_tropics = 0.95"
     ],
     "language": "python",
     "metadata": {},
     "outputs": [],
     "prompt_number": 2
    },
    {
     "cell_type": "code",
     "collapsed": false,
     "input": [
      "# Typical temperatures\n",
      "Ta_arctic  = 235.\n",
      "Ta_tropics = 290."
     ],
     "language": "python",
     "metadata": {},
     "outputs": [],
     "prompt_number": 3
    },
    {
     "cell_type": "code",
     "collapsed": false,
     "input": [
      "# Downwelling LW flux.\n",
      "Fd_arctic  = Alw_arctic * o * Ta_arctic**4\n",
      "Fd_tropics = Alw_tropics* o * Ta_tropics**4\n",
      "\n",
      "print 'Range of downwelling flux values = ',Fd_arctic, ' to ', Fd_tropics"
     ],
     "language": "python",
     "metadata": {},
     "outputs": [
      {
       "output_type": "stream",
       "stream": "stdout",
       "text": [
        "Range of downwelling flux values =  121.046586806  to  380.97691065\n"
       ]
      }
     ],
     "prompt_number": 4
    },
    {
     "cell_type": "markdown",
     "metadata": {},
     "source": [
      "###2) Now what must the net radiation balance be for frost to form (in winter)?"
     ]
    },
    {
     "cell_type": "code",
     "collapsed": false,
     "input": [
      "Alw = arange(0.7,1.0,0.01)      # Range of values from very dry (like Arctic) to overcast cloud (Alw = 1.0).\n",
      "Ta  = 275.                      # Choose a temperature that is NEARLY FREEZING.\n",
      "Ts  = 272.                      # Just sligthly below freezing; ENOUGH FOR FROST TO FORM.\n",
      "Fd  = Alw * o * Ta**4\n",
      "Fu  = ones(Alw.size) * o * Ts**4\n",
      "\n",
      "Fnet = Fu - Fd\n",
      "\n",
      "plot(Alw,Fd,Alw,Fu,Alw,Fnet)\n",
      "grid()\n",
      "xlabel('LW Atmospheric Absorptivity')\n",
      "ylabel('Flux (W m-2)')\n",
      "title('When will frost form?')\n",
      "legend(('Fd','Fu','Fnet'),loc='best')"
     ],
     "language": "python",
     "metadata": {},
     "outputs": [
      {
       "metadata": {},
       "output_type": "pyout",
       "prompt_number": 5,
       "text": [
        "<matplotlib.legend.Legend at 0x10ddb0450>"
       ]
      }
     ],
     "prompt_number": 5
    },
    {
     "cell_type": "markdown",
     "metadata": {},
     "source": [
      "###3) Approximate Cooling Rate of the surface"
     ]
    },
    {
     "cell_type": "code",
     "collapsed": false,
     "input": [
      "C     = 2.e6            # J m-3 K-1\n",
      "dz    = 0.05            # meters\n",
      "dT_dt = -Fnet / (C*dz) * 3600.\n",
      "\n",
      "plot(Alw, dT_dt)\n",
      "grid()\n",
      "xlabel('LW Atmospheric Absorptivity')\n",
      "ylabel('dT/dt (K/hr)')\n",
      "title('Cooling Rate of the Surface')"
     ],
     "language": "python",
     "metadata": {},
     "outputs": [
      {
       "metadata": {},
       "output_type": "pyout",
       "prompt_number": 18,
       "text": [
        "<matplotlib.text.Text at 0x10c343a90>"
       ]
      }
     ],
     "prompt_number": 18
    },
    {
     "cell_type": "code",
     "collapsed": false,
     "input": [
      "# Example given in the book (used as a check of units)\n",
      "-117./ (C*dz)*3600."
     ],
     "language": "python",
     "metadata": {},
     "outputs": [
      {
       "metadata": {},
       "output_type": "pyout",
       "prompt_number": 15,
       "text": [
        "-4.212"
       ]
      }
     ],
     "prompt_number": 15
    }
   ],
   "metadata": {}
  }
 ]
}