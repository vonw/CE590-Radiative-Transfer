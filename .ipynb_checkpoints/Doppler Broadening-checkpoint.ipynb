{
 "metadata": {
  "name": "",
  "signature": "sha256:af84346cf39098c90772ea07b5aeff96bfaed7129c831aa82497df2595ddc1e3"
 },
 "nbformat": 3,
 "nbformat_minor": 0,
 "worksheets": [
  {
   "cells": [
    {
     "cell_type": "markdown",
     "metadata": {},
     "source": [
      "#Doppler Broadening"
     ]
    },
    {
     "cell_type": "heading",
     "level": 2,
     "metadata": {},
     "source": [
      "Calculation of the Doppler line shape, caused by relative velocities within a gas."
     ]
    },
    {
     "cell_type": "code",
     "collapsed": false,
     "input": [
      "v0 = 31.26e12            # 1042 cm-1 in Hz.\n",
      "kB = 1.3806488e-23       # Boltzmann constant\n",
      "m  = (3.*16) / 6.02e23   # Molar mass divided by Avogadro's number\n",
      "c2 = (3e8)**2            # Speed of light squared.\n",
      "T  = 203.15              # Kelvin\n",
      "aD = v0 * (2.*kB*T/(m*c2))"
     ],
     "language": "python",
     "metadata": {},
     "outputs": [],
     "prompt_number": 38
    },
    {
     "cell_type": "code",
     "collapsed": false,
     "input": [
      "aD"
     ],
     "language": "python",
     "metadata": {},
     "outputs": [
      {
       "metadata": {},
       "output_type": "pyout",
       "prompt_number": 39,
       "text": [
        "0.024436092487874515"
       ]
      }
     ],
     "prompt_number": 39
    },
    {
     "cell_type": "code",
     "collapsed": false,
     "input": [
      "varr = arange(-0.2,0.2,0.001)"
     ],
     "language": "python",
     "metadata": {},
     "outputs": [],
     "prompt_number": 40
    },
    {
     "cell_type": "code",
     "collapsed": false,
     "input": [
      "fD = 1./(aD*pi**2)*exp(-varr**2 / aD**2)"
     ],
     "language": "python",
     "metadata": {},
     "outputs": [],
     "prompt_number": 41
    },
    {
     "cell_type": "code",
     "collapsed": false,
     "input": [
      "plot(varr/aD,fD)\n",
      "xlabel('(v-v0)/aD')\n",
      "ylabel('f(v-v0)')\n",
      "title('Doppler Line Shape')"
     ],
     "language": "python",
     "metadata": {},
     "outputs": [
      {
       "metadata": {},
       "output_type": "pyout",
       "prompt_number": 42,
       "text": [
        "<matplotlib.text.Text at 0x10ced86d0>"
       ]
      },
      {
       "metadata": {},
       "output_type": "display_data",
       "png": "[encoded data removed]",
       "text": [
        "<matplotlib.figure.Figure at 0x10cec5e90>"
       ]
      }
     ],
     "prompt_number": 42
    },
    {
     "cell_type": "code",
     "collapsed": false,
     "input": [],
     "language": "python",
     "metadata": {},
     "outputs": []
    }
   ],
   "metadata": {}
  }
 ]
}