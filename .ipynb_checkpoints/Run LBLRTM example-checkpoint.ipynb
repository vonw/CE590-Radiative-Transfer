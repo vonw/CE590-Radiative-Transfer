{
 "metadata": {
  "name": ""
 },
 "nbformat": 3,
 "nbformat_minor": 0,
 "worksheets": [
  {
   "cells": [
    {
     "cell_type": "markdown",
     "metadata": {},
     "source": [
      "#Run LBLRTM"
     ]
    },
    {
     "cell_type": "markdown",
     "metadata": {},
     "source": [
      "##This is a generic IPython notebook for running the Line-by-line Radiative Transfer Model (LBLRTM) on aeolus.wsu.edu.  It creates symbolic links to one of the test examples that is provided with the software package.  The model is then executed.  Output files that are not needed for analysis are deleted.  And finally the results are plotted."
     ]
    },
    {
     "cell_type": "markdown",
     "metadata": {},
     "source": [
      "###1) Set up symbolic links to necessary files to run LBLRTM on aeolus.wsu.edu. "
     ]
    },
    {
     "cell_type": "code",
     "collapsed": false,
     "input": [
      "# Removes links to essential input files just to be sure that they get set up correctly.\n",
      "!rm lblrtm\n",
      "!rm TAPE3\n",
      "!rm TAPE5\n",
      "\n",
      "# Link to the executable file, LBLRTM\n",
      "!ln -s /home/vonw/radtran/lblrtm/lblrtm_v12.2_linux_gnu_sgl lblrtm\n",
      "\n",
      "# Link to essential input files, TAPE3 (line file) and TAPE5 (model atmosphere)\n",
      "!ln -s /home/vonw/radtran/lblrtm/run_examples/run_example_user_defined_upwelling/TAPE3 TAPE3\n",
      "!ln -s /home/vonw/radtran/lblrtm/run_examples/run_example_user_defined_upwelling/TAPE5 TAPE5\n",
      "\n",
      "# Link to other files necessary for this particular example.\n",
      "!ln -s /home/vonw/radtran/lblrtm/run_examples/run_example_user_defined_upwelling/EMISS_sse_WuSm_vza_0_ws_0 EMISSIVITY\n",
      "!ln -s /home/vonw/radtran/lblrtm/run_examples/run_example_user_defined_upwelling/REFL_ssr_WuSm_vza_0_ws_0 REFLECTIVITY\n",
      "!ln -s /home/vonw/radtran/lblrtm/xs_files/xs xs\n",
      "!ln -s /home/vonw/radtran/lblrtm/xs_files/FSCDXS FSCDXS"
     ],
     "language": "python",
     "metadata": {},
     "outputs": []
    },
    {
     "cell_type": "markdown",
     "metadata": {},
     "source": [
      "###2) Execute LBLRTM using the input files set up in 1)."
     ]
    },
    {
     "cell_type": "code",
     "collapsed": false,
     "input": [
      "!./lblrtm"
     ],
     "language": "python",
     "metadata": {},
     "outputs": []
    },
    {
     "cell_type": "markdown",
     "metadata": {},
     "source": [
      "###3) Delete unnecessary files (to clean up the user directory)."
     ]
    },
    {
     "cell_type": "code",
     "collapsed": false,
     "input": [
      "!rm TAPE6\n",
      "!rm TAPE9\n",
      "!rm TAPE10\n",
      "!rm TAPE11\n",
      "!rm TAPE12"
     ],
     "language": "python",
     "metadata": {},
     "outputs": []
    },
    {
     "cell_type": "markdown",
     "metadata": {},
     "source": [
      "###4) Plot the output from LBLRTM."
     ]
    },
    {
     "cell_type": "code",
     "collapsed": false,
     "input": [
      "# Read in the output file, TAPE27, and graph the data.\n",
      "toa = loadtxt('TAPE27',skiprows=27)\n",
      "plot(toa[:,0],toa[:,1]*1e7)\n",
      "xlabel('Wavenumber (cm-1)')\n",
      "ylabel('Radiance [mW m-2 st-1 (cm-1)-1')\n",
      "title('Upwelling Radiance at the Top of the Atmosphere')"
     ],
     "language": "python",
     "metadata": {},
     "outputs": []
    }
   ],
   "metadata": {}
  }
 ]
}