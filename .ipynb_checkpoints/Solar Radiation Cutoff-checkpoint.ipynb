{
 "metadata": {
  "name": ""
 },
 "nbformat": 3,
 "nbformat_minor": 0,
 "worksheets": [
  {
   "cells": [
    {
     "cell_type": "markdown",
     "metadata": {},
     "source": [
      "##Solar Radiation Cutoff"
     ]
    },
    {
     "cell_type": "markdown",
     "metadata": {},
     "source": [
      "###This notebook shows the diminishing influence of solar radiation in the near infrared by comparing infrared radiance measurements when the sun is up (under clear skies) and when the sun has set.  It uses data measured at Summit Station, Greenland by the Polar Atmospheric Emitted Radiance Interferometer (PAERI) as part of the ICECAPS experiment."
     ]
    },
    {
     "cell_type": "code",
     "collapsed": false,
     "input": [
      "from netCDF4 import Dataset"
     ],
     "language": "python",
     "metadata": {},
     "outputs": [],
     "prompt_number": 1
    },
    {
     "cell_type": "markdown",
     "metadata": {},
     "source": [
      "####First, compare channels 1 and 2; LW and SW"
     ]
    },
    {
     "cell_type": "code",
     "collapsed": false,
     "input": [
      "#c1    = Dataset('/data/vonw/fieldExperiments/summit/data/paeri/final_RMcalibHere/AE130621/smtaerich1nf1turnX1.c1.20130621.000315.cdf')     # on aeolus\n",
      "c1    = Dataset('/Users/vonw/data/paeri/raw/AE130621/smtaerich1nf1turnX1.c1.20130621.000315.cdf')     # on nuia\n",
      "wn1   = c1.variables['wnum'][:]\n",
      "mrad1 = transpose(c1.variables['mean_rad'][:])\n",
      "#c2    = Dataset('/data/vonw/fieldExperiments/summit/data/paeri/final_RMcalibHere/AE130621/smtaerich2nf1turnX1.c1.20130621.000315.cdf')     # on aeolus\n",
      "c2    = Dataset('/Users/vonw/data/paeri/raw/AE130621/smtaerich2nf1turnX1.c1.20130621.000315.cdf')     # on nuia\n",
      "wn2   = c2.variables['wnum'][:]\n",
      "mrad2 = transpose(c2.variables['mean_rad'][:])\n",
      "\n",
      "figure()\n",
      "plot(wn1,mrad1[:,1:100].mean(axis=1),wn2,mrad2[:,1:100].mean(axis=1))\n",
      "xlabel('Wavenumber (cm-1)')\n",
      "ylabel('Downwelling Radiance [mW m-2 sr-1 (cm-1)-1]')\n",
      "title('Zenith Downwelling Radiance at Summit Station (21 June 2013)')\n",
      "legend(('Channel 1 - LW','Channel 2 - SW'),loc='best')"
     ],
     "language": "python",
     "metadata": {},
     "outputs": [
      {
       "metadata": {},
       "output_type": "pyout",
       "prompt_number": 5,
       "text": [
        "<matplotlib.legend.Legend at 0x1163071d0>"
       ]
      }
     ],
     "prompt_number": 5
    },
    {
     "cell_type": "markdown",
     "metadata": {},
     "source": [
      "####Now look at the difference in the SW channel between clear and cloudy skies."
     ]
    },
    {
     "cell_type": "code",
     "collapsed": false,
     "input": [
      "# Summer data from 21 June 2013 (CLEAR SKIES)\n",
      "#c2sclr   = Dataset('/data/vonw/fieldExperiments/summit/data/paeri/final_RMcalibHere/AE130621/smtaerich2nf1turnX1.c1.20130621.000315.cdf')     # on aeolus\n",
      "c2sclr   = Dataset('/Users/vonw/data/paeri/raw/AE130621/smtaerich2nf1turnX1.c1.20130621.000315.cdf')     # on nuia\n",
      "wnsclr   = c2sclr.variables['wnum'][:]\n",
      "mradsclr = transpose(c2sclr.variables['mean_rad'][:])\n",
      "\n",
      "# Summer data from 21 June 2013 (CLOUDY SKIES)\n",
      "#c2scld   = Dataset('/data/vonw/fieldExperiments/summit/data/paeri/final_RMcalibHere/AE130621/smtaerich2nf1turnX1.c1.20130629.000302.cdf')     # on aeolus\n",
      "c2scld   = Dataset('/Users/vonw/data/paeri/raw/AE130629/smtaerich2nf1turnX1.c1.20130629.000302.cdf')     # on nuia\n",
      "wnscld   = c2scld.variables['wnum'][:]\n",
      "mradscld = transpose(c2scld.variables['mean_rad'][:])\n",
      "\n",
      "figure()\n",
      "plot(wnsclr,mradsclr[:,1500],'b',wnscld,mradscld[:,1500],'k')\n",
      "xlabel('Wavenumber (cm-1)')\n",
      "ylabel('Downwelling Radiance [mW m-2 sr-1 (cm-1)-1]')\n",
      "title('Zenith Downwelling Radiance at Summit Station (21 June 2013)')\n",
      "legend(('SW - Clear','SW - Cloudy'),loc='best')"
     ],
     "language": "python",
     "metadata": {},
     "outputs": [
      {
       "metadata": {},
       "output_type": "pyout",
       "prompt_number": 3,
       "text": [
        "<matplotlib.legend.Legend at 0x11610bbd0>"
       ]
      }
     ],
     "prompt_number": 3
    },
    {
     "cell_type": "markdown",
     "metadata": {},
     "source": [
      "####Finally compare summer and winter under clear skies."
     ]
    },
    {
     "cell_type": "code",
     "collapsed": false,
     "input": [
      "# Summer data from 21 June 2013 (CLEAR SKIES)\n",
      "#c2s   = Dataset('/data/vonw/fieldExperiments/summit/data/paeri/final_RMcalibHere/AE130621/smtaerich2nf1turnX1.c1.20130621.000315.cdf')     # on nuia\n",
      "c2s   = Dataset('/Users/vonw/data/paeri/raw/AE130621/smtaerich2nf1turnX1.c1.20130621.000315.cdf')     # on nuia\n",
      "wns   = c2s.variables['wnum'][:]\n",
      "mrads = transpose(c2s.variables['mean_rad'][:])\n",
      "\n",
      "# Winter data from 29 December 2013\n",
      "#c2s   = Dataset('/data/vonw/fieldExperiments/summit/data/paeri/raw/AE131229/131229c2.nc')     # on aeolus\n",
      "c2w = Dataset('/Users/vonw/data/paeri/raw/AE131229/131229c2.nc')     # on nuia\n",
      "wnw   = c2w.variables['wnum1'][:]\n",
      "mradw = transpose(c2w.variables['mean_rad'][:])\n",
      "\n",
      "figure()\n",
      "plot(wns,mrads[:,1:100].mean(axis=1),'r',wnw,mradw[:,1:100].mean(axis=1),'b')\n",
      "xlabel('Wavenumber (cm-1)')\n",
      "ylabel('Downwelling Radiance [mW m-2 sr-1 (cm-1)-1]')\n",
      "title('Zenith Downwelling Radiance at Summit Station (21 June 2013)')\n",
      "legend(('Summer','Winter'),loc='best')"
     ],
     "language": "python",
     "metadata": {},
     "outputs": [
      {
       "metadata": {},
       "output_type": "pyout",
       "prompt_number": 4,
       "text": [
        "<matplotlib.legend.Legend at 0x115c98ed0>"
       ]
      }
     ],
     "prompt_number": 4
    },
    {
     "cell_type": "code",
     "collapsed": false,
     "input": [],
     "language": "python",
     "metadata": {},
     "outputs": []
    }
   ],
   "metadata": {}
  }
 ]
}