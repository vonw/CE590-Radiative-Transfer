{
 "metadata": {
  "name": ""
 },
 "nbformat": 3,
 "nbformat_minor": 0,
 "worksheets": [
  {
   "cells": [
    {
     "cell_type": "code",
     "collapsed": false,
     "input": [
      "# Read in the output file, TAPE27, and graph the data.\n",
      "t_mls = loadtxt('TAPE27_MLS_SFC_TRANSMISSION',skiprows=27)\n",
      "plot(t_mls[:,0],t_mls[:,1])\n",
      "axis([100,2000,0,1])\n",
      "xlabel('Wavenumber (cm-1)')\n",
      "ylabel('Transmittance')\n",
      "title('Transmittance at the Surface - Mid-Latitude Summer')"
     ],
     "language": "python",
     "metadata": {},
     "outputs": [],
     "prompt_number": "*"
    },
    {
     "cell_type": "code",
     "collapsed": false,
     "input": [],
     "language": "python",
     "metadata": {},
     "outputs": []
    }
   ],
   "metadata": {}
  }
 ]
}