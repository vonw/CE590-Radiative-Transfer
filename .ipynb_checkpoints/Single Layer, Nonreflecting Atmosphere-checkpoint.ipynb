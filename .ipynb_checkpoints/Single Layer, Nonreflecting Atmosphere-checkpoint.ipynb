{
 "metadata": {
  "name": ""
 },
 "nbformat": 3,
 "nbformat_minor": 0,
 "worksheets": [
  {
   "cells": [
    {
     "cell_type": "markdown",
     "metadata": {},
     "source": [
      "##Section 6.4.3 from Perry (2006)"
     ]
    },
    {
     "cell_type": "code",
     "collapsed": false,
     "input": [
      "S   = 1370./4.                 # Solar \"constant\"\n",
      "o   = 5.67e-8                  # Stefan-Boltzmann constant\n",
      "A   = 0.3                      # Planetary albedo\n",
      "tmp = arange(0.,1.01,0.01)     # Graybody shortwave albedo of the atmosphere\n",
      "Asw,Alw = meshgrid(tmp,tmp)        # Graybody longwave absorptivity/emissivity of the atmosphere"
     ],
     "language": "python",
     "metadata": {},
     "outputs": [],
     "prompt_number": 39
    },
    {
     "cell_type": "code",
     "collapsed": false,
     "input": [
      "# Equation 6.36, Surface Temperature\n",
      "Ts = ( (S/o) * (1. - (1.-Asw)*A) * ( (2.-Asw)/(2.-Alw) ) )**0.25"
     ],
     "language": "python",
     "metadata": {},
     "outputs": [],
     "prompt_number": 40
    },
    {
     "cell_type": "code",
     "collapsed": false,
     "input": [
      "figure()\n",
      "CS=contour(Asw,Alw,Ts,range(235,306,5))\n",
      "clabel(CS)\n",
      "xlabel('Atmospheric Shortwave Albedo')\n",
      "ylabel('Atmospheric Longwave Absorptivity')\n",
      "title('Surface Temperature for Single Layer Atmosphere, Ts')"
     ],
     "language": "python",
     "metadata": {},
     "outputs": [
      {
       "metadata": {},
       "output_type": "pyout",
       "prompt_number": 41,
       "text": [
        "<matplotlib.text.Text at 0x1113ae890>"
       ]
      }
     ],
     "prompt_number": 41
    },
    {
     "cell_type": "code",
     "collapsed": false,
     "input": [
      "# Equation 6.36, Atmospheric Temperature\n",
      "Ta = ( (S/o) * ( ( (1.-A)*(1.-Asw)*Alw + (1. + (1.-Asw)*A)*Asw ) / (2.-Alw)*Alw ) )**0.25"
     ],
     "language": "python",
     "metadata": {},
     "outputs": [],
     "prompt_number": 42
    },
    {
     "cell_type": "code",
     "collapsed": false,
     "input": [
      "figure()\n",
      "#CS=contour(Asw,Alw,Ta,range(60,280,20))\n",
      "CS=contour(Asw,Alw,Ta,range(80,280,10))\n",
      "clabel(CS)\n",
      "xlabel('Atmospheric Shortwave Albedo')\n",
      "ylabel('Atmospheric Longwave Absorptivity')\n",
      "title('Atmosphere Temperature for Single Layer Atmosphere, Ta')"
     ],
     "language": "python",
     "metadata": {},
     "outputs": [
      {
       "metadata": {},
       "output_type": "pyout",
       "prompt_number": 43,
       "text": [
        "<matplotlib.text.Text at 0x11351da90>"
       ]
      }
     ],
     "prompt_number": 43
    }
   ],
   "metadata": {}
  }
 ]
}