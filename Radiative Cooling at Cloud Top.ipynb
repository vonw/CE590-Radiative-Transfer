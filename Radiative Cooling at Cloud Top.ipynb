{
 "metadata": {
  "name": ""
 },
 "nbformat": 3,
 "nbformat_minor": 0,
 "worksheets": [
  {
   "cells": [
    {
     "cell_type": "markdown",
     "metadata": {},
     "source": [
      "#Radiative Cooling at Cloud Top - Section 6.4.5 in Petty (2006)"
     ]
    },
    {
     "cell_type": "markdown",
     "metadata": {},
     "source": [
      "###How do clouds cool radiatively?  And what is the net cooling rate within a cloud?"
     ]
    },
    {
     "cell_type": "code",
     "collapsed": false,
     "input": [
      "o = 5.67e-8       # Stefan-Boltzmann constant"
     ],
     "language": "python",
     "metadata": {},
     "outputs": [],
     "prompt_number": 1
    },
    {
     "cell_type": "code",
     "collapsed": false,
     "input": [
      "# Temperatures of the surface, cloud base, and cloud top for a typical marine stratocumulus cloud.\n",
      "Ts    = 288.\n",
      "Tbase = 285.\n",
      "Ttop  = 281."
     ],
     "language": "python",
     "metadata": {},
     "outputs": [],
     "prompt_number": 2
    },
    {
     "cell_type": "markdown",
     "metadata": {},
     "source": [
      "####The net radiative flux at the base of the cloud"
     ]
    },
    {
     "cell_type": "code",
     "collapsed": false,
     "input": [
      "Fnet_base = o * (Ts**4 - Tbase**4)\n",
      "print 'The net flux at the cloud base is = ',Fnet_base, 'W m-2'"
     ],
     "language": "python",
     "metadata": {},
     "outputs": [
      {
       "output_type": "stream",
       "stream": "stdout",
       "text": [
        "The net flux at the cloud base is =  16.0011091737 W m-2\n"
       ]
      }
     ],
     "prompt_number": 14
    },
    {
     "cell_type": "markdown",
     "metadata": {},
     "source": [
      "####The net radiative flux at the top of the cloud"
     ]
    },
    {
     "cell_type": "code",
     "collapsed": false,
     "input": [
      "Alw = 0.8\n",
      "Ta  = 280.\n",
      "Fnet_top = (o * Ttop**4) - (Alw * o* Ta**4)\n",
      "print 'The net flux at the cloud base is = ',Fnet_top, 'W m-2'"
     ],
     "language": "python",
     "metadata": {},
     "outputs": [
      {
       "output_type": "stream",
       "stream": "stdout",
       "text": [
        "The net flux at the cloud base is =  74.7074392407 W m-2\n"
       ]
      }
     ],
     "prompt_number": 15
    },
    {
     "cell_type": "code",
     "collapsed": false,
     "input": [
      "cp  = 1004.  # J kg-1 K-1\n",
      "rho = 1.2    # kg m-3\n",
      "dz  = 1000.  # 1 km = 1000 meters\n",
      "\n",
      "dT_dt = (Fnet_base - Fnet_top) / (cp * rho * dz) * 3600. * 24.\n",
      "print 'The Cooling Rate at Cloud Top is = ', dT_dt, 'K/day'"
     ],
     "language": "python",
     "metadata": {},
     "outputs": [
      {
       "output_type": "stream",
       "stream": "stdout",
       "text": [
        "The Cooling Rate at Cloud Top is =  -4.21001570202 K/day\n"
       ]
      }
     ],
     "prompt_number": 18
    }
   ],
   "metadata": {}
  }
 ]
}